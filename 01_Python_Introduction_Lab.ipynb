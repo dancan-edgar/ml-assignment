{
 "cells": [
  {
   "cell_type": "markdown",
   "id": "03c4ee7c-8b1c-4ff8-9638-6e45f4802bb5",
   "metadata": {},
   "source": [
    "### Introduction to Python\n",
    "#### Date: Sep 06,2023\n",
    "#### Submission must be made through Github\n",
    "You are required to complete all tasks correctly (or almost correctly) . You are free to use any material (lecture, Stackoverflow etc.) except full solutions but you should first try to figure them out on your own. We use an nbgrader for partially autograding the assignments. Please DO NOT delete or copy cells. You can add new cells but your solutions should go into the designated cells. "
   ]
  },
  {
   "cell_type": "markdown",
   "id": "79ceb440-0a4a-4cfe-92a8-d8d2d410e1e1",
   "metadata": {},
   "source": [
    "`range()` practice"
   ]
  },
  {
   "cell_type": "markdown",
   "id": "a56105d9-2e08-49de-bf42-4ed89f531dca",
   "metadata": {},
   "source": [
    "1 . Print the numbers between 60 and 69 inclusive."
   ]
  },
  {
   "cell_type": "code",
   "execution_count": 1,
   "id": "9672a3e9-7f15-4956-b6e4-669b03a88cc0",
   "metadata": {},
   "outputs": [
    {
     "name": "stdout",
     "output_type": "stream",
     "text": [
      "[60, 61, 62, 63, 64, 65, 66, 67, 68, 69]\n"
     ]
    }
   ],
   "source": [
    "# Print the numbers between 60 and 69 inclusive\n",
    "print([i for i in range(60,70)])\n",
    "# raise NotImplementedError()"
   ]
  },
  {
   "cell_type": "code",
   "execution_count": null,
   "id": "a5d9d87f",
   "metadata": {},
   "outputs": [],
   "source": []
  },
  {
   "cell_type": "markdown",
   "id": "b74e0b6f-b2e2-4b93-a13f-73a3304171d4",
   "metadata": {},
   "source": [
    "2 . Read numbers until 0 and print their mean and standard deviation without using a list."
   ]
  },
  {
   "cell_type": "code",
   "execution_count": 2,
   "id": "57c6caad-8250-4346-ada9-418b1fb7e5c8",
   "metadata": {},
   "outputs": [
    {
     "name": "stdout",
     "output_type": "stream",
     "text": [
      "Enter your number: 5\n",
      "Mean: 2.5\n",
      "Standard Deviation: 1.707825127659933\n"
     ]
    }
   ],
   "source": [
    "# Read numbers until 0 and print their mean and standard deviation without using a list.\n",
    "my_number = int(input(\"Enter your number: \"))\n",
    "\n",
    "# Store the enter number\n",
    "stored_number = my_number\n",
    "# initialize the  total to 0\n",
    "total= 0\n",
    "\n",
    "# initialize the count to 0\n",
    "count = 0\n",
    "while my_number >= 0:\n",
    "    total += my_number\n",
    "    count += 1\n",
    "    my_number -= 1\n",
    "\n",
    "# Evaluate the mean which is the total divided number of times\n",
    "mean = total / count\n",
    "\n",
    "# Find the standard deviation\n",
    "m = 0\n",
    "while stored_number >= 0:\n",
    "    m += (stored_number - mean)**2\n",
    "    stored_number -= 1\n",
    "    \n",
    "standard_deviation = (m / count)**(1/2)\n",
    "\n",
    "# Print the mean\n",
    "print(f\"Mean: {mean}\")\n",
    "\n",
    "# Print the standard deviation\n",
    "print(f\"Standard Deviation: {standard_deviation}\")\n",
    "# raise NotImplementedError()"
   ]
  },
  {
   "cell_type": "code",
   "execution_count": null,
   "id": "4f99fa0d",
   "metadata": {},
   "outputs": [],
   "source": []
  },
  {
   "cell_type": "markdown",
   "id": "43d383f5-1f59-47fd-99a5-938bf2c2e937",
   "metadata": {},
   "source": [
    "##### Lists\n",
    "3 . Print the odd numbers from this list. `l = [2, 3, -2, -7, 0, 2, 3]`"
   ]
  },
  {
   "cell_type": "code",
   "execution_count": 3,
   "id": "8423d0f0-c4a6-4ac0-9100-523c8e8b9dff",
   "metadata": {},
   "outputs": [
    {
     "name": "stdout",
     "output_type": "stream",
     "text": [
      "[3, -7, 3]\n"
     ]
    }
   ],
   "source": [
    "l = [2, 3, -2, -7, 0, 2, 3]\n",
    "\n",
    "print([i for i in l if i % 2 != 0])\n",
    "# raise NotImplementedError()"
   ]
  },
  {
   "cell_type": "code",
   "execution_count": null,
   "id": "89fe098e",
   "metadata": {},
   "outputs": [],
   "source": []
  },
  {
   "cell_type": "markdown",
   "id": "ba8c7678-f149-46fd-a59c-1740c6b31662",
   "metadata": {},
   "source": [
    "##### Functions\n",
    "4 . Write a function that takes an integer parameter `(N)` and returns a list of the first `N` prime numbers starting from 2."
   ]
  },
  {
   "cell_type": "code",
   "execution_count": 7,
   "id": "c11489ad-16c8-458e-bb07-6269fdc0ac67",
   "metadata": {},
   "outputs": [],
   "source": [
    "def get_n_primes(N):\n",
    "    if N == 0:\n",
    "        return []\n",
    "    primes = [2]\n",
    "    num = 3 \n",
    "    while len(primes) < N: \n",
    "        is_prime = True \n",
    "        for i in range(len(primes)):\n",
    "            if num % primes[i] == 0: \n",
    "                is_prime = False \n",
    "                break \n",
    "        if is_prime: \n",
    "            primes.append(num) \n",
    "        num += 2 \n",
    "\n",
    "    return primes\n",
    "# raise NotImplementedError()"
   ]
  },
  {
   "cell_type": "code",
   "execution_count": null,
   "id": "3bf3dfaf",
   "metadata": {},
   "outputs": [],
   "source": []
  },
  {
   "cell_type": "code",
   "execution_count": null,
   "id": "d6bdb9d4",
   "metadata": {},
   "outputs": [],
   "source": []
  },
  {
   "cell_type": "code",
   "execution_count": null,
   "id": "8dee4b0c",
   "metadata": {},
   "outputs": [],
   "source": []
  },
  {
   "cell_type": "code",
   "execution_count": 8,
   "id": "0349ebb9-189e-437b-a3f0-8ed95de70b67",
   "metadata": {},
   "outputs": [],
   "source": [
    "assert(get_n_primes(3) == [2, 3, 5])\n",
    "assert(get_n_primes(0) == [])"
   ]
  },
  {
   "cell_type": "code",
   "execution_count": null,
   "id": "c3122df5",
   "metadata": {},
   "outputs": [],
   "source": []
  },
  {
   "cell_type": "code",
   "execution_count": null,
   "id": "7a4e8c7c",
   "metadata": {},
   "outputs": [],
   "source": []
  },
  {
   "cell_type": "markdown",
   "id": "faa7415c-d5d9-4248-95d2-588b6919c59c",
   "metadata": {},
   "source": [
    "5. Write a function that takes an integer parameter (N) and returns the Nth Fibonacci number.\n",
    "\n",
    " The Fibonacci series is defined as:\n",
    "\n",
    "$$\n",
    "F_n = F_{n-1} + F_{n-2} \\text{ for } n>1\\\\\n",
    "F_0 = 0\\\\\n",
    "F_1 = 1\n",
    "$$\n",
    "\n",
    "The first few elements of the Fibonacci series are 0, 1, 1, 2, 3, 5, 8, 13 etc.\n",
    "\n",
    "Raise a `ValueError` if $N<0$.\n"
   ]
  },
  {
   "cell_type": "code",
   "execution_count": 9,
   "id": "2cdba1a3-855c-483f-a5b0-eba31d98c186",
   "metadata": {},
   "outputs": [],
   "source": [
    "# Function to get the nth fibonacci number\n",
    "def get_nth_fibonacci(n):\n",
    "    \n",
    "    fn_2 = 0\n",
    "    fn_1 = 1\n",
    "    \n",
    "#     Raise Value error in the provided n is less than 0\n",
    "    if n < 0:\n",
    "        raise ValueError(\"Enter a positive number\")\n",
    "        \n",
    "    elif n == 1:\n",
    "        return fn_1\n",
    "    elif n == 0:\n",
    "        return fn_2\n",
    "    elif n == 2:\n",
    "        return fn_1\n",
    "    \n",
    "    for i in range(2,n+1):\n",
    "        fn = fn_1 + fn_2\n",
    "        fn_2 = fn_1\n",
    "        fn_1 = fn\n",
    "#         Return nth fibonacci number\n",
    "    return fn_1\n",
    "# raise NotImplementedError()"
   ]
  },
  {
   "cell_type": "code",
   "execution_count": null,
   "id": "a0edad1b",
   "metadata": {},
   "outputs": [],
   "source": []
  },
  {
   "cell_type": "code",
   "execution_count": 10,
   "id": "d6b671a5-1c06-4f25-889e-599d5dedc9ae",
   "metadata": {},
   "outputs": [],
   "source": [
    "assert(get_nth_fibonacci(0) == 0)\n",
    "assert(get_nth_fibonacci(1) == 1)\n",
    "assert(get_nth_fibonacci(2) == 1)\n",
    "assert(get_nth_fibonacci(5) == 5)\n",
    "assert(get_nth_fibonacci(7) == 13)\n",
    "\n",
    "try:\n",
    "    get_nth_fibonacci(-2)\n",
    "except ValueError:\n",
    "    pass\n",
    "else:\n",
    "    AssertionError(\"TEST FAILS. Negative index should raise a ValueError.\")"
   ]
  },
  {
   "cell_type": "code",
   "execution_count": null,
   "id": "85156781",
   "metadata": {},
   "outputs": [],
   "source": []
  },
  {
   "cell_type": "markdown",
   "id": "fc2960b4-e2b4-4e98-9284-9acb6e682182",
   "metadata": {},
   "source": [
    "6 . Create a function that take a list and a predicate (function with boolean return value) as parameters and returns a new list of those elements which the predicate return True. A predicate is a function that takes one element and return `True` or `False`, for example `is_even`, `is_prime`. If you implemented The following tests should run.\n"
   ]
  },
  {
   "cell_type": "code",
   "execution_count": 15,
   "id": "a5bbd70f-1ba6-4a46-8b14-bc8b82da1a18",
   "metadata": {},
   "outputs": [],
   "source": [
    "def is_odd(n):\n",
    "    return n %2 != 0\n",
    "\n",
    "def is_prime(n):\n",
    "    if(n==1 or n==0):\n",
    "            return False\n",
    "        \n",
    "    for i in range(2,n):\n",
    "        if( n% i==0):\n",
    "            return False\n",
    "    return True\n",
    "\n",
    "def filter_list(l, func):\n",
    "    my_list = []\n",
    "    for i in l:\n",
    "        if func(i):\n",
    "            my_list.append(i)\n",
    "    return my_list\n",
    "# raise NotImplementedError()"
   ]
  },
  {
   "cell_type": "code",
   "execution_count": null,
   "id": "d0bf0000",
   "metadata": {},
   "outputs": [],
   "source": []
  },
  {
   "cell_type": "code",
   "execution_count": 16,
   "id": "a2622238-54c7-4561-b6e6-52020207940f",
   "metadata": {},
   "outputs": [],
   "source": [
    "l1 = [1, 2, 3, 4, 19, 35, 11]\n",
    "l2 = [1, 4, 9, 16, 25]\n",
    "assert(filter_list(l1, is_odd) == [1, 3, 19, 35, 11])\n",
    "assert(filter_list(l1, is_prime) == [2, 3, 19, 11])\n",
    "assert(filter_list(l2, is_prime) == [])"
   ]
  },
  {
   "cell_type": "code",
   "execution_count": null,
   "id": "0bb00484",
   "metadata": {},
   "outputs": [],
   "source": []
  },
  {
   "cell_type": "markdown",
   "id": "11b4614e-75b6-4735-bbb3-54899d386014",
   "metadata": {},
   "source": [
    "7.  Reduce is a function that applies a two argument function against an accumulator and each element in the sequence (from left to right) to reduce it to a single value. If no initial value is provided, the accumulator is initialized with the return value of the function run on the first two elements of the sequence.\n",
    "\n",
    "```\n",
    "reduce([1, 2, 3], product) ---> 6\n",
    "reduce([1, 2, 3], product, accumulator=10) ---> 60\n",
    "reduce([\"foo\", \"bar\"], string_addition) ---> \"foobar\"\n",
    "reduce([\"foo\", \"bar\"], string_addition, accumulator=\"hello\") ---> \"hellofoobar\"\n",
    "```"
   ]
  },
  {
   "cell_type": "code",
   "execution_count": 18,
   "id": "8101a46d-4eb0-46ee-951d-ad3a32619d84",
   "metadata": {},
   "outputs": [],
   "source": [
    "\n",
    "import numpy as np\n",
    "def reduce(my_list, function, accumulator=None):\n",
    "    my_list1 = my_list.copy()\n",
    "    if accumulator != None:\n",
    "        my_list1.insert(0, accumulator)\n",
    "        return function(my_list1)\n",
    "    else:\n",
    "        return function(my_list1)\n",
    "\n",
    "def add(list_arg):\n",
    "    return np.sum(list_arg)\n",
    "\n",
    "def string_len_add(list_arg):\n",
    "    length = 0\n",
    "    for i in list_arg:\n",
    "        if isinstance(i, int):\n",
    "            length += i\n",
    "        else:\n",
    "            length += len(i)\n",
    "    return length\n",
    "# raise NotImplementedError()"
   ]
  },
  {
   "cell_type": "code",
   "execution_count": null,
   "id": "9d8db5dc",
   "metadata": {},
   "outputs": [],
   "source": []
  },
  {
   "cell_type": "code",
   "execution_count": null,
   "id": "3e26dd81",
   "metadata": {},
   "outputs": [],
   "source": []
  },
  {
   "cell_type": "code",
   "execution_count": null,
   "id": "00445967",
   "metadata": {},
   "outputs": [],
   "source": []
  },
  {
   "cell_type": "code",
   "execution_count": 19,
   "id": "06afdae8-d4b5-4a65-85ab-bd469456caed",
   "metadata": {},
   "outputs": [],
   "source": [
    "l1 = [1, 2, -1, 5]\n",
    "l2 = [\"foo\", \"bar\", \"hello\"]\n",
    "\n",
    "assert(reduce(l1, add) == 7)\n",
    "assert(reduce(l1, add, 10) == 17)\n",
    "assert(reduce(l2, string_len_add, 0) == 11)"
   ]
  },
  {
   "cell_type": "code",
   "execution_count": null,
   "id": "a03500cb",
   "metadata": {},
   "outputs": [],
   "source": []
  },
  {
   "cell_type": "code",
   "execution_count": null,
   "id": "030cf8e9",
   "metadata": {},
   "outputs": [],
   "source": []
  },
  {
   "cell_type": "markdown",
   "id": "d5057830-6794-4d2d-ac06-02b44b852186",
   "metadata": {},
   "source": [
    "8. Use your reduce function for the following operations:\n",
    "\n",
    "##### a. count the number of odd elements in a list of integers,\n",
    "##### b. find the maximum of a list of integers,\n",
    "##### c. find the longest string in list of strings.\n",
    "\n",
    "``` Test your solutions. ```"
   ]
  },
  {
   "cell_type": "code",
   "execution_count": 21,
   "id": "dbb28576-5abb-4b90-8e9f-c4bfcaffc3b7",
   "metadata": {},
   "outputs": [
    {
     "data": {
      "text/plain": [
       "6"
      ]
     },
     "execution_count": 21,
     "metadata": {},
     "output_type": "execute_result"
    }
   ],
   "source": [
    "def odd_count(list_arg):\n",
    "    count = 0\n",
    "    for i in list_arg:\n",
    "        if i % 2 != 0:\n",
    "            count += 1\n",
    "    return count\n",
    "# raise NotImplementedError()"
   ]
  },
  {
   "cell_type": "code",
   "execution_count": 22,
   "id": "47256862",
   "metadata": {},
   "outputs": [
    {
     "data": {
      "text/plain": [
       "5"
      ]
     },
     "execution_count": 22,
     "metadata": {},
     "output_type": "execute_result"
    }
   ],
   "source": [
    "reduce([1,2,3,4,5,6,7,8,9,0],odd_count)"
   ]
  },
  {
   "cell_type": "code",
   "execution_count": 23,
   "id": "7be10eea",
   "metadata": {},
   "outputs": [
    {
     "data": {
      "text/plain": [
       "6"
      ]
     },
     "execution_count": 23,
     "metadata": {},
     "output_type": "execute_result"
    }
   ],
   "source": [
    "reduce([1,2,3,4,5,6,7,8,9,0],odd_count,5)"
   ]
  },
  {
   "cell_type": "code",
   "execution_count": 24,
   "id": "c8c0bafd",
   "metadata": {},
   "outputs": [
    {
     "data": {
      "text/plain": [
       "5"
      ]
     },
     "execution_count": 24,
     "metadata": {},
     "output_type": "execute_result"
    }
   ],
   "source": [
    "reduce([1,2,3,4,5,6,7,8,9,0],odd_count)"
   ]
  },
  {
   "cell_type": "code",
   "execution_count": null,
   "id": "4be5a2a0",
   "metadata": {},
   "outputs": [],
   "source": []
  },
  {
   "cell_type": "code",
   "execution_count": null,
   "id": "36521160",
   "metadata": {},
   "outputs": [],
   "source": []
  },
  {
   "cell_type": "code",
   "execution_count": 25,
   "id": "af799981-375d-4c42-8dc1-83908ed0e8a4",
   "metadata": {},
   "outputs": [],
   "source": [
    "def largest(list_arg):\n",
    "    return np.amax(list_arg)\n",
    "\n",
    "def longest(list_arg):\n",
    "    my_string = \"\"\n",
    "    for item in list_arg:\n",
    "        if len(item) > len(my_string):\n",
    "            my_string = item\n",
    "            \n",
    "    return my_string\n",
    "# raise NotImplementedError()"
   ]
  },
  {
   "cell_type": "code",
   "execution_count": 26,
   "id": "a31add1a",
   "metadata": {},
   "outputs": [
    {
     "data": {
      "text/plain": [
       "67"
      ]
     },
     "execution_count": 26,
     "metadata": {},
     "output_type": "execute_result"
    }
   ],
   "source": [
    "reduce([23,45,67,2,45],largest)"
   ]
  },
  {
   "cell_type": "code",
   "execution_count": 27,
   "id": "2dde9634",
   "metadata": {},
   "outputs": [
    {
     "data": {
      "text/plain": [
       "67"
      ]
     },
     "execution_count": 27,
     "metadata": {},
     "output_type": "execute_result"
    }
   ],
   "source": [
    "reduce([23,45,67,2,45],largest,45)"
   ]
  },
  {
   "cell_type": "code",
   "execution_count": 28,
   "id": "f918b685",
   "metadata": {},
   "outputs": [
    {
     "data": {
      "text/plain": [
       "100"
      ]
     },
     "execution_count": 28,
     "metadata": {},
     "output_type": "execute_result"
    }
   ],
   "source": [
    "reduce([23,45,67,2,45],largest,100)"
   ]
  },
  {
   "cell_type": "code",
   "execution_count": 29,
   "id": "00b083a4",
   "metadata": {},
   "outputs": [
    {
     "data": {
      "text/plain": [
       "'height'"
      ]
     },
     "execution_count": 29,
     "metadata": {},
     "output_type": "execute_result"
    }
   ],
   "source": [
    "reduce([\"song\",\"love\",\"height\"],longest)"
   ]
  },
  {
   "cell_type": "code",
   "execution_count": 30,
   "id": "99aee343",
   "metadata": {},
   "outputs": [
    {
     "data": {
      "text/plain": [
       "'this is a song'"
      ]
     },
     "execution_count": 30,
     "metadata": {},
     "output_type": "execute_result"
    }
   ],
   "source": [
    "reduce([\"song\",\"love\",\"height\"],longest, \"this is a song\")"
   ]
  },
  {
   "cell_type": "code",
   "execution_count": null,
   "id": "10b0bb99",
   "metadata": {},
   "outputs": [],
   "source": []
  },
  {
   "cell_type": "markdown",
   "id": "3c077854-065c-4c34-9def-93b57b32e9db",
   "metadata": {},
   "source": [
    "9. Create a function that takes a matrix of size NxM and returns the pairwise L2 distance of each row pair.\n",
    "\n",
    "For input $A^{N \\times M}$, the output should be $D^{N \\times N}$ where: $D_{i,j} = L_2 (A_i, A_j)$"
   ]
  },
  {
   "cell_type": "code",
   "execution_count": 40,
   "id": "b987aeec-458a-4ae7-b203-59334bdb725e",
   "metadata": {},
   "outputs": [],
   "source": [
    "import numpy as np\n",
    "def pairwise_row_distance(A):\n",
    "    A = np.array(A, dtype=float)\n",
    "    num_rows = A.shape[0]\n",
    "    D = np.zeros((num_rows, num_rows), dtype=float)\n",
    "    \n",
    "    for i in range(num_rows):\n",
    "        for j in range(num_rows):\n",
    "            D[i][j] = np.sqrt(np.sum((A[i] - A[j]) ** 2))\n",
    "    return D\n",
    "\n",
    "def transpose(A):\n",
    "    return A.T\n",
    "\n",
    "# raise NotImplementedError()"
   ]
  },
  {
   "cell_type": "code",
   "execution_count": null,
   "id": "a29ee9be",
   "metadata": {},
   "outputs": [],
   "source": []
  },
  {
   "cell_type": "code",
   "execution_count": 41,
   "id": "a8a40461-7af8-41f7-96f2-729f69c62ab8",
   "metadata": {},
   "outputs": [],
   "source": [
    "D = pairwise_row_distance([[1, 0, 2], [0, 2, 1]])\n",
    "# should be a matrix\n",
    "# assert is_matrix(D) == True\n",
    "assert len(D) == 2\n",
    "assert len(D[0]) == 2\n",
    "assert D[0][0] == 0\n",
    "assert abs(D[0][1] - 2.449489742783178) < 1e-3\n",
    "assert abs(D[1][0] - 2.449489742783178) < 1e-3\n",
    "assert D[1][1] == 0\n",
    "\n",
    "# should be symmetric\n",
    "# assert transpose(D) == D"
   ]
  },
  {
   "cell_type": "code",
   "execution_count": null,
   "id": "a97c724d",
   "metadata": {},
   "outputs": [],
   "source": []
  },
  {
   "cell_type": "markdown",
   "id": "211444ab-c1e5-47cf-86d1-ca72d009b7d1",
   "metadata": {},
   "source": [
    "10 . Object Oriented Programming\n",
    " Define a class named `A` with a 'constructor' that takes a single parameter and stores it in an attribute named `value`. Add a `print_value` method to the class. Instantiate the class and call the `print_value` method."
   ]
  },
  {
   "cell_type": "code",
   "execution_count": 31,
   "id": "86213a2e-3268-45aa-90cc-151c8ef4417f",
   "metadata": {},
   "outputs": [
    {
     "name": "stdout",
     "output_type": "stream",
     "text": [
      "2\n"
     ]
    }
   ],
   "source": [
    "class A:\n",
    "    def __init__(self, value):\n",
    "        self.value = value\n",
    "        \n",
    "    def print_value(self):\n",
    "        print(self.value)\n",
    "a = A(2)\n",
    "a.print_value()\n",
    "# raise NotImplementedError()"
   ]
  },
  {
   "cell_type": "code",
   "execution_count": null,
   "id": "f27cf5ec",
   "metadata": {},
   "outputs": [],
   "source": []
  },
  {
   "cell_type": "code",
   "execution_count": 32,
   "id": "70769d9e-d21e-4685-8436-6f4de2b1b798",
   "metadata": {},
   "outputs": [
    {
     "name": "stdout",
     "output_type": "stream",
     "text": [
      "abc\n"
     ]
    }
   ],
   "source": [
    "a = A(\"abc\")\n",
    "a.print_value()"
   ]
  },
  {
   "cell_type": "code",
   "execution_count": null,
   "id": "17c9560e",
   "metadata": {},
   "outputs": [],
   "source": []
  },
  {
   "cell_type": "markdown",
   "id": "b2c7b287-c0ec-4fba-ba52-69aedfb3f9e5",
   "metadata": {},
   "source": [
    "11.  Define a class named `B`, whose `__init__` takes two parameters and stores one in a public attribute and the other in a private attribute named `this_is_public` and `__this_is_private` respectively. Check the class's ``__dict__``  attribute and find out the mangled name of the private attribute."
   ]
  },
  {
   "cell_type": "code",
   "execution_count": 33,
   "id": "887717c5-b8e6-4e4f-a389-167cc3ad2f90",
   "metadata": {},
   "outputs": [
    {
     "name": "stdout",
     "output_type": "stream",
     "text": [
      "{'this_is_public': 'This is a good idea', '_B__this_is_private': 'Love is blind'}\n"
     ]
    }
   ],
   "source": [
    "class B:\n",
    "    def __init__(self, argument1, argument2):\n",
    "        self.this_is_public = argument1\n",
    "        self.__this_is_private = argument2\n",
    "\n",
    "\n",
    "b = B(\"This is a good idea\", \"Love is blind\")\n",
    "print(b.__dict__)\n",
    "# raise NotImplementedError()"
   ]
  },
  {
   "cell_type": "code",
   "execution_count": null,
   "id": "95a29978",
   "metadata": {},
   "outputs": [],
   "source": []
  },
  {
   "cell_type": "code",
   "execution_count": 34,
   "id": "2890d450-5191-4dd0-91ef-4dc5f84b511c",
   "metadata": {},
   "outputs": [
    {
     "name": "stdout",
     "output_type": "stream",
     "text": [
      "Failed to access private attribute, this is good :)\n"
     ]
    }
   ],
   "source": [
    "b = B(1, 2)\n",
    "assert b.this_is_public == 1\n",
    "try:\n",
    "    b.__this_is_private\n",
    "    print(\"This should not happen.\")\n",
    "except AttributeError:\n",
    "    print(\"Failed to access private attribute, this is good :)\")"
   ]
  },
  {
   "cell_type": "code",
   "execution_count": null,
   "id": "b78f05ba",
   "metadata": {},
   "outputs": [],
   "source": []
  },
  {
   "cell_type": "markdown",
   "id": "4197c752-3a45-4e48-a3e3-2fd8a8172387",
   "metadata": {},
   "source": [
    "13 . Inheritance\n",
    "\n",
    "###### Guess the output without running the cell."
   ]
  },
  {
   "cell_type": "code",
   "execution_count": 35,
   "id": "2a142442-f03b-438d-bca6-3a2c7c16ab7e",
   "metadata": {},
   "outputs": [
    {
     "name": "stdout",
     "output_type": "stream",
     "text": [
      "True\n",
      "True\n",
      "False\n",
      "True\n",
      "True\n"
     ]
    }
   ],
   "source": [
    "class A(object): pass\n",
    "class B(A): pass\n",
    "class C(A): pass\n",
    "class D(B): pass\n",
    "\n",
    "a = A()\n",
    "b = B()\n",
    "c = C()\n",
    "d = D()\n",
    "\n",
    "print(isinstance(a, object))\n",
    "print(isinstance(b, object))\n",
    "print(isinstance(a, B))\n",
    "print(isinstance(b, A))\n",
    "print(isinstance(d, A))"
   ]
  },
  {
   "cell_type": "code",
   "execution_count": null,
   "id": "95d2342d",
   "metadata": {},
   "outputs": [],
   "source": []
  },
  {
   "cell_type": "code",
   "execution_count": 36,
   "id": "c637dbb5-1350-4fbd-bf2c-94f4a60d6e5a",
   "metadata": {},
   "outputs": [
    {
     "name": "stdout",
     "output_type": "stream",
     "text": [
      "True\n",
      "True\n",
      "False\n",
      "True\n"
     ]
    }
   ],
   "source": [
    "print(issubclass(C, object))\n",
    "print(issubclass(D, B))\n",
    "print(issubclass(B, D))\n",
    "print(issubclass(B, B))"
   ]
  },
  {
   "cell_type": "code",
   "execution_count": null,
   "id": "2f33b69f",
   "metadata": {},
   "outputs": [],
   "source": []
  },
  {
   "cell_type": "markdown",
   "id": "2dc2067d-f15e-424a-b5f1-9782cb8c7ee5",
   "metadata": {},
   "source": [
    "#### Create a Cat, a Dog, a Fish and a Eagle class.\n",
    "\n",
    "The animals have the following attributes:\n",
    "\n",
    "1. cats, dogs and eagles can make a sound (this should be a make_sound function that prints the animals sound),\n",
    "2. all animals have an age and a number_of_legs attribute,\n",
    "3. cats and dogs have a fur_color attribute. They can be instantiated with a single color or a list or tuple of colors.\n",
    "\n",
    "Use inheritance and avoid repeating code. Use default values in the constructors."
   ]
  },
  {
   "cell_type": "code",
   "execution_count": 11,
   "id": "58b41d3c-bc66-4e6a-bcc9-345814da6dd5",
   "metadata": {},
   "outputs": [],
   "source": [
    "class Animal:\n",
    "    def __init__(self,name,age=2,number_of_legs=4):\n",
    "        self.age = age\n",
    "        self.number_of_legs = number_of_legs\n",
    "        self.name = name\n",
    "\n",
    "class Eagle(Animal):\n",
    "    def __init__(self,name,age=1,number_of_legs=2,sound=\"fvfgjkffgk\"):\n",
    "        self.sound = sound\n",
    "        super().__init__(name,age,number_of_legs)\n",
    "        \n",
    "    def make_sound(self):\n",
    "        print(self.sound)\n",
    "\n",
    "class Cat(Eagle):\n",
    "    def __init__(self,name,fur=None,age=3,number_of_legs=4,sound=\"Baaa\"):\n",
    "        self.fur = fur\n",
    "        super().__init__(name,age,number_of_legs,sound)\n",
    "        \n",
    "class Dog(Cat):\n",
    "    pass\n",
    "\n",
    "class Fish(Animal):\n",
    "    pass\n",
    "# raise NotImplementedError()"
   ]
  },
  {
   "cell_type": "code",
   "execution_count": null,
   "id": "c234f81b",
   "metadata": {},
   "outputs": [],
   "source": []
  },
  {
   "cell_type": "code",
   "execution_count": 12,
   "id": "cf485478-8ccb-4ece-b411-25aeda370733",
   "metadata": {},
   "outputs": [],
   "source": [
    "try:\n",
    "    cat = Cat(\"Fluffy\", age=3, fur=\"white\")\n",
    "    dog = Dog(\"Cherry\", age=1, fur=(\"white\", \"brown\", \"black\"))\n",
    "    fish = Fish(\"King\")\n",
    "    eagle = Eagle(\"Bruce\", age=2)\n",
    "    animals = [cat, dog, fish, eagle]\n",
    "except Exception as e:\n",
    "    print(f'Could not initialize an animal: {e}')"
   ]
  },
  {
   "cell_type": "code",
   "execution_count": null,
   "id": "c2998bf5",
   "metadata": {},
   "outputs": [],
   "source": []
  },
  {
   "cell_type": "markdown",
   "id": "05cce854-4ec1-4f38-8c59-a6a9d024a147",
   "metadata": {},
   "source": [
    "#### Numpy basic exercises\n",
    "\n",
    "Use vectorization and avoid for loops in all exercises. Implement each exercise as a single function.\n",
    "\n",
    "##### Implement standardization for 2D arrays.\n",
    "\n",
    "Standardization is defined as:\n",
    "\n",
    "\\begin{equation*}\n",
    "X_{std} = \\frac{X - \\mu}{\\sigma},\n",
    "\\end{equation*}\n",
    "\n",
    "where $\\mu$ is the mean of each row and $\\rho$ is the standard deviation of each column."
   ]
  },
  {
   "cell_type": "code",
   "execution_count": 39,
   "id": "b0a6e8bb-88de-4598-a7d9-e667d944d41a",
   "metadata": {},
   "outputs": [
    {
     "data": {
      "text/plain": [
       "array([[-1.06066017,  1.06066017],\n",
       "       [-1.06066017,  1.06066017],\n",
       "       [-1.06066017,  1.06066017]])"
      ]
     },
     "execution_count": 39,
     "metadata": {},
     "output_type": "execute_result"
    }
   ],
   "source": [
    "def standardize(X):\n",
    "    # YOUR CODE HERE\n",
    "    import numpy as np\n",
    "\n",
    "def standardize(matrix):    \n",
    "    mean = np.mean(matrix, axis=1)\n",
    "    standard_deviation = np.std(matrix, axis=0)\n",
    "    standard_matrix = (matrix - mean[:, np.newaxis]) / standard_deviation\n",
    "    return standard_matrix\n",
    "\n",
    "X_std = standardize(np.array([[1, 2], [2, 3], [1, 2]]))\n",
    "X_std"
   ]
  },
  {
   "cell_type": "code",
   "execution_count": null,
   "id": "fcb7b849",
   "metadata": {},
   "outputs": [],
   "source": []
  },
  {
   "cell_type": "markdown",
   "id": "1b248a73-d899-475b-bac0-a17382dfefab",
   "metadata": {},
   "source": [
    "#### Implement normalization for 2D arrays.\n",
    "\n",
    "Normalization is defined as:\n",
    "\n",
    "\\begin{equation*}\n",
    "X_{norm} = \\frac{X - X_{min}}{X_{max} - X_{min}}\n",
    "\\end{equation*}"
   ]
  },
  {
   "cell_type": "code",
   "execution_count": 37,
   "id": "95841093-e7e7-4f28-94b5-a53a554cddfe",
   "metadata": {},
   "outputs": [
    {
     "name": "stdout",
     "output_type": "stream",
     "text": [
      "[[ 0  1  2]\n",
      " [ 3  4 -5]]\n"
     ]
    },
    {
     "data": {
      "text/plain": [
       "array([[0., 0., 1.],\n",
       "       [1., 1., 0.]])"
      ]
     },
     "execution_count": 37,
     "metadata": {},
     "output_type": "execute_result"
    }
   ],
   "source": [
    "def normalize(x):\n",
    "    # YOUR CODE HERE\n",
    "    min_value = np.min(X, axis=0)\n",
    "    max_value = np.max(X, axis=0)\n",
    "    normalized_matrix = (x - min_value) / (max_value - min_value)\n",
    "\n",
    "    return normalized_matrix\n",
    "\n",
    "X = np.arange(6).reshape(2, 3)\n",
    "X[1, 2] = -5\n",
    "print(X)\n",
    "normalize(X)"
   ]
  },
  {
   "cell_type": "code",
   "execution_count": null,
   "id": "7c632d54",
   "metadata": {},
   "outputs": [],
   "source": []
  },
  {
   "cell_type": "code",
   "execution_count": 38,
   "id": "75fe2509-9e4a-45aa-8f41-e2dd6290d81a",
   "metadata": {},
   "outputs": [],
   "source": [
    "answer = np.array(\n",
    "    [[0., 0., 1.],\n",
    "     [1., 1., 0.]]\n",
    ")\n",
    "X_norm = normalize(X)\n",
    "assert np.allclose(X_norm, answer)"
   ]
  },
  {
   "cell_type": "code",
   "execution_count": null,
   "id": "1bd44ca2",
   "metadata": {},
   "outputs": [],
   "source": []
  }
 ],
 "metadata": {
  "kernelspec": {
   "display_name": "Python 3 (ipykernel)",
   "language": "python",
   "name": "python3"
  },
  "language_info": {
   "codemirror_mode": {
    "name": "ipython",
    "version": 3
   },
   "file_extension": ".py",
   "mimetype": "text/x-python",
   "name": "python",
   "nbconvert_exporter": "python",
   "pygments_lexer": "ipython3",
   "version": "3.9.13"
  }
 },
 "nbformat": 4,
 "nbformat_minor": 5
}
